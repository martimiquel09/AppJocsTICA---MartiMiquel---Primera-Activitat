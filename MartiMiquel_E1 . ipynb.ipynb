{
 "cells": [
  {
   "cell_type": "markdown",
   "id": "a07560ee",
   "metadata": {},
   "source": [
    "Exercici 1: Enters"
   ]
  },
  {
   "cell_type": "code",
   "execution_count": null,
   "id": "5167baf7",
   "metadata": {},
   "outputs": [],
   "source": [
    "preu_entrada = 8.35"
   ]
  },
  {
   "cell_type": "code",
   "execution_count": null,
   "id": "5acef2e6",
   "metadata": {},
   "outputs": [],
   "source": [
    "nombre_entrades = 1"
   ]
  },
  {
   "cell_type": "code",
   "execution_count": 8,
   "id": "56c7f6af",
   "metadata": {},
   "outputs": [],
   "source": [
    "cost_total = preu_entrada * nombre_entrades"
   ]
  },
  {
   "cell_type": "code",
   "execution_count": 9,
   "id": "48318276",
   "metadata": {},
   "outputs": [
    {
     "data": {
      "text/plain": [
       "8.35"
      ]
     },
     "execution_count": 9,
     "metadata": {},
     "output_type": "execute_result"
    }
   ],
   "source": [
    "cost_total"
   ]
  },
  {
   "cell_type": "code",
   "execution_count": 10,
   "id": "152c4023",
   "metadata": {},
   "outputs": [],
   "source": [
    "nombre_entrades= 5"
   ]
  },
  {
   "cell_type": "code",
   "execution_count": 12,
   "id": "f502eaf2",
   "metadata": {},
   "outputs": [],
   "source": [
    "cost_total = preu_entrada * nombre_entrades"
   ]
  },
  {
   "cell_type": "code",
   "execution_count": 13,
   "id": "61c1d1d4",
   "metadata": {},
   "outputs": [
    {
     "data": {
      "text/plain": [
       "41.75"
      ]
     },
     "execution_count": 13,
     "metadata": {},
     "output_type": "execute_result"
    }
   ],
   "source": [
    "cost_total"
   ]
  },
  {
   "cell_type": "code",
   "execution_count": 14,
   "id": "08fb52a7",
   "metadata": {},
   "outputs": [],
   "source": [
    "nombre_entrades= 354"
   ]
  },
  {
   "cell_type": "code",
   "execution_count": 15,
   "id": "f45cafa0",
   "metadata": {},
   "outputs": [],
   "source": [
    "cost_total = preu_entrada * nombre_entrades"
   ]
  },
  {
   "cell_type": "code",
   "execution_count": 16,
   "id": "58faeced",
   "metadata": {},
   "outputs": [
    {
     "data": {
      "text/plain": [
       "2955.9"
      ]
     },
     "execution_count": 16,
     "metadata": {},
     "output_type": "execute_result"
    }
   ],
   "source": [
    "cost_total"
   ]
  },
  {
   "cell_type": "code",
   "execution_count": 17,
   "id": "09baa419",
   "metadata": {},
   "outputs": [],
   "source": [
    "nombre_entrades_retornades= 4"
   ]
  },
  {
   "cell_type": "code",
   "execution_count": 18,
   "id": "c7843213",
   "metadata": {},
   "outputs": [],
   "source": [
    "percentatge= 88"
   ]
  },
  {
   "cell_type": "code",
   "execution_count": 28,
   "id": "457d15e2",
   "metadata": {},
   "outputs": [],
   "source": [
    "nombre_entrades= 10"
   ]
  },
  {
   "cell_type": "code",
   "execution_count": 29,
   "id": "3807c846",
   "metadata": {},
   "outputs": [],
   "source": [
    "cost_total= (nombre_entrades*preu_entrada)-(nombre_entrades_retornades*preu_entrada*percentatge/100)"
   ]
  },
  {
   "cell_type": "code",
   "execution_count": 30,
   "id": "531a9b4f",
   "metadata": {},
   "outputs": [
    {
     "data": {
      "text/plain": [
       "54.108000000000004"
      ]
     },
     "execution_count": 30,
     "metadata": {},
     "output_type": "execute_result"
    }
   ],
   "source": [
    "cost_total"
   ]
  },
  {
   "cell_type": "markdown",
   "id": "c4e533f2",
   "metadata": {},
   "source": [
    "Exercici 2"
   ]
  },
  {
   "cell_type": "code",
   "execution_count": 31,
   "id": "1f2ee340",
   "metadata": {},
   "outputs": [],
   "source": [
    "poblacio=1000"
   ]
  },
  {
   "cell_type": "code",
   "execution_count": 32,
   "id": "1b799bd4",
   "metadata": {},
   "outputs": [],
   "source": [
    "infectats_inicials=10"
   ]
  },
  {
   "cell_type": "code",
   "execution_count": 33,
   "id": "387d5d4e",
   "metadata": {},
   "outputs": [],
   "source": [
    "taxa_contagi=0.01"
   ]
  },
  {
   "cell_type": "code",
   "execution_count": 34,
   "id": "513abf49",
   "metadata": {},
   "outputs": [],
   "source": [
    "dies=5"
   ]
  },
  {
   "cell_type": "code",
   "execution_count": 35,
   "id": "0c435d8b",
   "metadata": {},
   "outputs": [],
   "source": [
    "infectats=infectats_inicials+(poblacio-infectats_inicials)*(1-(1-taxa_contagi)**5)"
   ]
  },
  {
   "cell_type": "code",
   "execution_count": 36,
   "id": "8c6c0653",
   "metadata": {},
   "outputs": [
    {
     "data": {
      "text/plain": [
       "58.51985059900009"
      ]
     },
     "execution_count": 36,
     "metadata": {},
     "output_type": "execute_result"
    }
   ],
   "source": [
    "infectats"
   ]
  },
  {
   "cell_type": "markdown",
   "id": "4ebea07c",
   "metadata": {},
   "source": [
    "Exercici 3"
   ]
  },
  {
   "cell_type": "code",
   "execution_count": 72,
   "id": "ae1daac1",
   "metadata": {},
   "outputs": [],
   "source": [
    "r=1"
   ]
  },
  {
   "cell_type": "code",
   "execution_count": 74,
   "id": "6978e70a",
   "metadata": {},
   "outputs": [],
   "source": [
    "import math"
   ]
  },
  {
   "cell_type": "code",
   "execution_count": 73,
   "id": "19ad5fd5",
   "metadata": {},
   "outputs": [],
   "source": [
    "P= 2*math.pi*r"
   ]
  },
  {
   "cell_type": "code",
   "execution_count": 75,
   "id": "e140ada6",
   "metadata": {},
   "outputs": [
    {
     "data": {
      "text/plain": [
       "6.283185307179586"
      ]
     },
     "execution_count": 75,
     "metadata": {},
     "output_type": "execute_result"
    }
   ],
   "source": [
    "P"
   ]
  },
  {
   "cell_type": "code",
   "execution_count": 76,
   "id": "9eba4172",
   "metadata": {},
   "outputs": [],
   "source": [
    "r=2"
   ]
  },
  {
   "cell_type": "code",
   "execution_count": 77,
   "id": "befef151",
   "metadata": {},
   "outputs": [],
   "source": [
    "P= 2*math.pi*r"
   ]
  },
  {
   "cell_type": "code",
   "execution_count": 78,
   "id": "b56c74d8",
   "metadata": {},
   "outputs": [
    {
     "data": {
      "text/plain": [
       "12.566370614359172"
      ]
     },
     "execution_count": 78,
     "metadata": {},
     "output_type": "execute_result"
    }
   ],
   "source": [
    "P"
   ]
  },
  {
   "cell_type": "code",
   "execution_count": 79,
   "id": "23d13d58",
   "metadata": {},
   "outputs": [],
   "source": [
    "r=1"
   ]
  },
  {
   "cell_type": "code",
   "execution_count": 80,
   "id": "57160801",
   "metadata": {},
   "outputs": [],
   "source": [
    "A=math.pi*r**2"
   ]
  },
  {
   "cell_type": "code",
   "execution_count": 81,
   "id": "a3c511b8",
   "metadata": {},
   "outputs": [
    {
     "data": {
      "text/plain": [
       "3.141592653589793"
      ]
     },
     "execution_count": 81,
     "metadata": {},
     "output_type": "execute_result"
    }
   ],
   "source": [
    "A"
   ]
  },
  {
   "cell_type": "code",
   "execution_count": 82,
   "id": "6d98989f",
   "metadata": {},
   "outputs": [],
   "source": [
    "r=2"
   ]
  },
  {
   "cell_type": "code",
   "execution_count": 83,
   "id": "bc9a1dc0",
   "metadata": {},
   "outputs": [],
   "source": [
    "A=math.pi*r**2"
   ]
  },
  {
   "cell_type": "code",
   "execution_count": 84,
   "id": "baae890f",
   "metadata": {},
   "outputs": [
    {
     "data": {
      "text/plain": [
       "12.566370614359172"
      ]
     },
     "execution_count": 84,
     "metadata": {},
     "output_type": "execute_result"
    }
   ],
   "source": [
    "A"
   ]
  },
  {
   "cell_type": "code",
   "execution_count": 85,
   "id": "e52a73e5",
   "metadata": {},
   "outputs": [],
   "source": [
    "r=1"
   ]
  },
  {
   "cell_type": "code",
   "execution_count": 86,
   "id": "70e456b5",
   "metadata": {},
   "outputs": [],
   "source": [
    "V1=4/3*math.pi*r**3"
   ]
  },
  {
   "cell_type": "code",
   "execution_count": 87,
   "id": "c9804b28",
   "metadata": {},
   "outputs": [
    {
     "data": {
      "text/plain": [
       "4.1887902047863905"
      ]
     },
     "execution_count": 87,
     "metadata": {},
     "output_type": "execute_result"
    }
   ],
   "source": [
    "V1"
   ]
  },
  {
   "cell_type": "code",
   "execution_count": 88,
   "id": "84fcafd9",
   "metadata": {},
   "outputs": [],
   "source": [
    "r=2"
   ]
  },
  {
   "cell_type": "code",
   "execution_count": 89,
   "id": "11fa16ad",
   "metadata": {},
   "outputs": [],
   "source": [
    "V2=4/3*math.pi*r**3"
   ]
  },
  {
   "cell_type": "code",
   "execution_count": 90,
   "id": "ded06916",
   "metadata": {},
   "outputs": [
    {
     "data": {
      "text/plain": [
       "33.510321638291124"
      ]
     },
     "execution_count": 90,
     "metadata": {},
     "output_type": "execute_result"
    }
   ],
   "source": [
    "V2"
   ]
  },
  {
   "cell_type": "code",
   "execution_count": 91,
   "id": "b510b75e",
   "metadata": {},
   "outputs": [
    {
     "data": {
      "text/plain": [
       "4.19"
      ]
     },
     "execution_count": 91,
     "metadata": {},
     "output_type": "execute_result"
    }
   ],
   "source": [
    "round(V1,2)"
   ]
  },
  {
   "cell_type": "markdown",
   "id": "83d753e2",
   "metadata": {},
   "source": [
    "Exercici 4"
   ]
  },
  {
   "cell_type": "code",
   "execution_count": 93,
   "id": "6da6ae87",
   "metadata": {},
   "outputs": [],
   "source": [
    "nom=\"martimiquel\""
   ]
  },
  {
   "cell_type": "code",
   "execution_count": 94,
   "id": "b120a7cc",
   "metadata": {},
   "outputs": [],
   "source": [
    "primera_lletra= \"m\""
   ]
  },
  {
   "cell_type": "code",
   "execution_count": 95,
   "id": "aa32c522",
   "metadata": {},
   "outputs": [],
   "source": [
    "ultima_letra=\"l\""
   ]
  },
  {
   "cell_type": "code",
   "execution_count": 97,
   "id": "5c3919a9",
   "metadata": {},
   "outputs": [
    {
     "data": {
      "text/plain": [
       "'rti'"
      ]
     },
     "execution_count": 97,
     "metadata": {},
     "output_type": "execute_result"
    }
   ],
   "source": [
    "nom[2:5]"
   ]
  },
  {
   "cell_type": "code",
   "execution_count": 117,
   "id": "134f3a29",
   "metadata": {},
   "outputs": [],
   "source": [
    "tres_lletres=nom[2:5]"
   ]
  },
  {
   "cell_type": "code",
   "execution_count": 102,
   "id": "7fb440ed",
   "metadata": {},
   "outputs": [
    {
     "data": {
      "text/plain": [
       "'MARTIMIQUEL'"
      ]
     },
     "execution_count": 102,
     "metadata": {},
     "output_type": "execute_result"
    }
   ],
   "source": [
    "nom.upper()"
   ]
  },
  {
   "cell_type": "code",
   "execution_count": 103,
   "id": "d8bfe30b",
   "metadata": {},
   "outputs": [],
   "source": [
    "nom_M= nom.upper()"
   ]
  },
  {
   "cell_type": "code",
   "execution_count": 106,
   "id": "e9c473c7",
   "metadata": {},
   "outputs": [
    {
     "data": {
      "text/plain": [
       "'martimiquel'"
      ]
     },
     "execution_count": 106,
     "metadata": {},
     "output_type": "execute_result"
    }
   ],
   "source": [
    "nom.lower()"
   ]
  },
  {
   "cell_type": "code",
   "execution_count": 107,
   "id": "ce220f22",
   "metadata": {},
   "outputs": [],
   "source": [
    "nom_m= nom.lower()"
   ]
  },
  {
   "cell_type": "code",
   "execution_count": 108,
   "id": "0d6c31f6",
   "metadata": {},
   "outputs": [
    {
     "data": {
      "text/plain": [
       "11"
      ]
     },
     "execution_count": 108,
     "metadata": {},
     "output_type": "execute_result"
    }
   ],
   "source": [
    "len(nom)"
   ]
  },
  {
   "cell_type": "code",
   "execution_count": 109,
   "id": "035010d8",
   "metadata": {},
   "outputs": [],
   "source": [
    "llargada_nom= len(nom)"
   ]
  },
  {
   "cell_type": "code",
   "execution_count": 119,
   "id": "c3e893f6",
   "metadata": {},
   "outputs": [
    {
     "name": "stdout",
     "output_type": "stream",
     "text": [
      "Hola, el meu nom és martimiquel\n",
      "La primera lletra del meu nom és m\n",
      "L'última lletra del meu nom és l\n",
      "Els tres caràcters entre la posició 2 i la 5 són rti\n",
      "El meu nom, amb espais, té 11 caràcters\n",
      "El meu nom en majúscules es veu així: MARTIMIQUEL\n",
      "El meu nom en minúscules es veu així: martimiquel\n"
     ]
    }
   ],
   "source": [
    "print(f\"Hola, el meu nom és {nom}\")\n",
    "print(f\"La primera lletra del meu nom és {primera_lletra}\")\n",
    "print(f\"L'última lletra del meu nom és {ultima_letra}\")\n",
    "print(f\"Els tres caràcters entre la posició 2 i la 5 són {tres_lletres}\")\n",
    "print(f\"El meu nom, amb espais, té {llargada_nom} caràcters\")\n",
    "print(f\"El meu nom en majúscules es veu així: {nom_M}\")\n",
    "print(f\"El meu nom en minúscules es veu així: {nom_m}\")"
   ]
  }
 ],
 "metadata": {
  "kernelspec": {
   "display_name": "Python 3",
   "language": "python",
   "name": "python3"
  },
  "language_info": {
   "codemirror_mode": {
    "name": "ipython",
    "version": 3
   },
   "file_extension": ".py",
   "mimetype": "text/x-python",
   "name": "python",
   "nbconvert_exporter": "python",
   "pygments_lexer": "ipython3",
   "version": "3.13.7"
  }
 },
 "nbformat": 4,
 "nbformat_minor": 5
}
